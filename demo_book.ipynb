{
 "cells": [
  {
   "cell_type": "code",
   "id": "initial_id",
   "metadata": {
    "collapsed": true,
    "ExecuteTime": {
     "end_time": "2024-06-24T23:24:51.176164Z",
     "start_time": "2024-06-24T23:24:51.173633Z"
    }
   },
   "source": [
    "# Greet\n",
    "def greet(name):\n",
    "    return \"Hello, \" + name + \"!\"\n"
   ],
   "outputs": [],
   "execution_count": 2
  },
  {
   "metadata": {
    "ExecuteTime": {
     "end_time": "2024-06-24T23:25:15.505669Z",
     "start_time": "2024-06-24T23:25:15.500830Z"
    }
   },
   "cell_type": "code",
   "source": "greet(\"OzeyMan!\")",
   "id": "44159536eace3a71",
   "outputs": [
    {
     "data": {
      "text/plain": [
       "'Hello, OzeyMan!!'"
      ]
     },
     "execution_count": 3,
     "metadata": {},
     "output_type": "execute_result"
    }
   ],
   "execution_count": 3
  },
  {
   "metadata": {},
   "cell_type": "code",
   "outputs": [],
   "execution_count": null,
   "source": "",
   "id": "52199bc0f8cc4065"
  }
 ],
 "metadata": {
  "kernelspec": {
   "display_name": "Python 3",
   "language": "python",
   "name": "python3"
  },
  "language_info": {
   "codemirror_mode": {
    "name": "ipython",
    "version": 2
   },
   "file_extension": ".py",
   "mimetype": "text/x-python",
   "name": "python",
   "nbconvert_exporter": "python",
   "pygments_lexer": "ipython2",
   "version": "2.7.6"
  }
 },
 "nbformat": 4,
 "nbformat_minor": 5
}

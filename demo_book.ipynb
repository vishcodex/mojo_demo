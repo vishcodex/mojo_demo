{
 "cells": [
  {
   "cell_type": "code",
   "id": "initial_id",
   "metadata": {
    "collapsed": true,
    "ExecuteTime": {
     "end_time": "2024-06-25T10:26:32.369116Z",
     "start_time": "2024-06-25T10:26:32.363859Z"
    }
   },
   "source": [
    "# Greet\n",
    "def greet(name):\n",
    "    return \"Hello, \" + name + \"!\"\n"
   ],
   "outputs": [],
   "execution_count": 4
  },
  {
   "metadata": {
    "ExecuteTime": {
     "end_time": "2024-06-25T10:26:33.152720Z",
     "start_time": "2024-06-25T10:26:33.149564Z"
    }
   },
   "cell_type": "code",
   "source": "greet(\"OzeyMan!\")",
   "id": "44159536eace3a71",
   "outputs": [
    {
     "data": {
      "text/plain": [
       "'Hello, OzeyMan!!'"
      ]
     },
     "execution_count": 5,
     "metadata": {},
     "output_type": "execute_result"
    }
   ],
   "execution_count": 5
  },
  {
   "metadata": {},
   "cell_type": "code",
   "outputs": [],
   "execution_count": null,
   "source": [
    "# Structs\n",
    "\n",
    "\n"
   ],
   "id": "20049a6b256c16e4"
  }
 ],
 "metadata": {
  "kernelspec": {
   "display_name": "Python 3",
   "language": "python",
   "name": "python3"
  },
  "language_info": {
   "codemirror_mode": {
    "name": "ipython",
    "version": 2
   },
   "file_extension": ".py",
   "mimetype": "text/x-python",
   "name": "python",
   "nbconvert_exporter": "python",
   "pygments_lexer": "ipython2",
   "version": "2.7.6"
  }
 },
 "nbformat": 4,
 "nbformat_minor": 5
}
